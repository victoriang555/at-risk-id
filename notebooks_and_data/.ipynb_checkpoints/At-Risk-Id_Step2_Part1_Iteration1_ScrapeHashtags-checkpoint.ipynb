{
 "cells": [
  {
   "cell_type": "markdown",
   "metadata": {},
   "source": [
    "# Import Libraries"
   ]
  },
  {
   "cell_type": "code",
   "execution_count": 4,
   "metadata": {},
   "outputs": [
    {
     "name": "stderr",
     "output_type": "stream",
     "text": [
      "/home/victoria/anaconda3/envs/ds/lib/python3.6/site-packages/psycopg2/__init__.py:144: UserWarning: The psycopg2 wheel package will be renamed from release 2.8; in order to keep installing from binary please use \"pip install psycopg2-binary\" instead. For details see: <http://initd.org/psycopg/docs/install.html#binary-install-from-pypi>.\n",
      "  \"\"\")\n",
      "2018-06-03 16:39:44,752 : INFO : 'pattern' package not found; tag filters are not available for English\n",
      "/home/victoria/anaconda3/envs/ds/lib/python3.6/site-packages/sklearn/cross_validation.py:41: DeprecationWarning: This module was deprecated in version 0.18 in favor of the model_selection module into which all the refactored classes and functions are moved. Also note that the interface of the new CV iterators are different from that of this module. This module will be removed in 0.20.\n",
      "  \"This module will be removed in 0.20.\", DeprecationWarning)\n"
     ]
    }
   ],
   "source": [
    "# General system libraries\n",
    "import os\n",
    "import sys\n",
    "from IPython.display import Image, Markdown\n",
    "import logging\n",
    "logging.basicConfig(format='%(asctime)s : %(levelname)s : %(message)s', level=logging.INFO)\n",
    "\n",
    "# Dataframe libraries\n",
    "import pandas as pd\n",
    "from pandas import DataFrame, read_csv\n",
    "\n",
    "# Number manipulation\n",
    "import scipy.sparse\n",
    "from scipy.ndimage.filters import generic_filter\n",
    "import patsy\n",
    "import numpy as np\n",
    "\n",
    "# Plotting libaries\n",
    "import matplotlib.pyplot as plt\n",
    "import seaborn as sns\n",
    "plt.style.use('ggplot')\n",
    "%matplotlib inline\n",
    "\n",
    "# Data type libaries\n",
    "from datetime import datetime as dt\n",
    "\n",
    "# File manipulation\n",
    "import pickle\n",
    "import pandas.io.sql as pd_sql\n",
    "from sqlalchemy import create_engine\n",
    "import psycopg2 as pg\n",
    "from flatten_json import flatten\n",
    "\n",
    "# NLP libraries\n",
    "import wikipedia as wiki\n",
    "from nltk import word_tokenize, sent_tokenize,FreqDist\n",
    "from nltk.corpus import stopwords\n",
    "import gensim as gn\n",
    "from gensim import corpora, models, similarities\n",
    "from collections import defaultdict\n",
    "from six import iteritems\n",
    "from sklearn.feature_extraction.stop_words import ENGLISH_STOP_WORDS\n",
    "from spacy.lang.en.stop_words import STOP_WORDS\n",
    "import string\n",
    "import emoji\n",
    "import enchant\n",
    "\n",
    "# Scraping libraries\n",
    "import requests\n",
    "from bs4 import BeautifulSoup\n",
    "from selenium import webdriver\n",
    "from selenium.webdriver.common.keys import Keys\n",
    "import time\n",
    "from scraping_functions.tumblr_api import get_client\n",
    "import pytumblr\n",
    "\n",
    "# Stats libaries\n",
    "import statsmodels.api as sm\n",
    "import statsmodels.formula.api as smf\n",
    "from sklearn import datasets, linear_model, metrics\n",
    "from sklearn.cross_validation import cross_val_score, cross_val_predict\n",
    "from sklearn.preprocessing import StandardScaler, PolynomialFeatures\n",
    "from sklearn.model_selection import train_test_split, GridSearchCV\n",
    "from sklearn.linear_model import Ridge, Lasso, RidgeCV, LinearRegression\n",
    "from sklearn.naive_bayes import GaussianNB\n",
    "from sklearn.pipeline import make_pipeline\n",
    "from sklearn.metrics import mean_squared_error, mean_absolute_error\n",
    "from sklearn import svm, datasets\n",
    "from sklearn.feature_extraction.text import CountVectorizer\n",
    "from sklearn.decomposition import PCA\n",
    "from sklearn.neighbors import KNeighborsClassifier\n",
    "\n",
    "\n",
    "# Other libaries\n",
    "import geopy"
   ]
  },
  {
   "cell_type": "markdown",
   "metadata": {},
   "source": [
    "# Define a function to scrape a list of hashtags related to selfharmmm"
   ]
  },
  {
   "cell_type": "markdown",
   "metadata": {},
   "source": [
    "https://towardsdatascience.com/flattening-json-objects-in-python-f5343c794b10"
   ]
  },
  {
   "cell_type": "code",
   "execution_count": 5,
   "metadata": {},
   "outputs": [],
   "source": [
    "def get_related_hashtags(initial_hashtag):\n",
    "    os.environ['webdriver.chrome.driver'] = 'chromedriver'\n",
    "    driver = webdriver.Chrome()\n",
    "    driver.get('https://top-hashtags.com/hashtag/{}'.format(initial_hashtag))\n",
    "    all_hashtags = []\n",
    "    for idx in range(1,6):\n",
    "        hashtags = list(set(driver.find_element_by_id('clip-tags-{}'.format(idx)).text.split()))\n",
    "        all_hashtags.extend(hashtags)\n",
    "    return list(set(all_hashtags))                     "
   ]
  },
  {
   "cell_type": "markdown",
   "metadata": {},
   "source": [
    "# Obtain the list of usernames"
   ]
  },
  {
   "cell_type": "code",
   "execution_count": 6,
   "metadata": {},
   "outputs": [],
   "source": [
    "selfharmmm_related_hashtags_list = get_related_hashtags('selfharmmm')"
   ]
  },
  {
   "cell_type": "code",
   "execution_count": 30,
   "metadata": {},
   "outputs": [
    {
     "data": {
      "text/plain": [
       "['#emo',\n",
       " '#binge',\n",
       " '#razor',\n",
       " '#silence',\n",
       " '#recovery',\n",
       " '#broken',\n",
       " '#emogirl',\n",
       " '#anerexic',\n",
       " '#sadedits',\n",
       " '#depressedboy',\n",
       " '#wasteofspace',\n",
       " '#suicideedit',\n",
       " '#suizidal',\n",
       " '#mentalillness',\n",
       " '#hatred',\n",
       " '#pathetic',\n",
       " '#pride',\n",
       " '#numb',\n",
       " '#alone',\n",
       " '#suicidial',\n",
       " '#triggering',\n",
       " '#depressiv',\n",
       " '#selfharmmmm',\n",
       " '#sadaudio',\n",
       " '#brokenheart',\n",
       " '#mentalhealth',\n",
       " '#breathtaking',\n",
       " '#cutting',\n",
       " '#worthless',\n",
       " '#dark',\n",
       " '#cry',\n",
       " '#lonely',\n",
       " '#depressedteen',\n",
       " '#tired',\n",
       " '#ocd',\n",
       " '#depressededits',\n",
       " '#ugly',\n",
       " '#equality',\n",
       " '#everythingiswrong',\n",
       " '#starve',\n",
       " '#sorry',\n",
       " '#nobody',\n",
       " '#bulimia',\n",
       " '#sadness',\n",
       " '#monstersinmyhead',\n",
       " '#useless',\n",
       " '#crying',\n",
       " '#suicidalvideo',\n",
       " '#secretsociety123',\n",
       " '#killme',\n",
       " '#death',\n",
       " '#psychosis',\n",
       " '#depressededit',\n",
       " '#suicidaledits',\n",
       " '#stupid',\n",
       " '#cutted',\n",
       " '#sadvideos',\n",
       " '#edits',\n",
       " '#fat',\n",
       " '#depressed',\n",
       " '#triggerwarning',\n",
       " '#respect',\n",
       " '#pills',\n",
       " '#anamia',\n",
       " '#ana',\n",
       " '#selfinjury',\n",
       " '#selfharn',\n",
       " '#borderline',\n",
       " '#mia',\n",
       " '#dying',\n",
       " '#anorexia',\n",
       " '#drugs',\n",
       " '#imalone',\n",
       " '#depressedvideos',\n",
       " '#hope',\n",
       " '#obese',\n",
       " '#iwanttodie',\n",
       " '#whale',\n",
       " '#borderlinepersonalitydisorder',\n",
       " '#depressionquotes',\n",
       " '#selbstverletzung',\n",
       " '#iwanttobeskinny',\n",
       " '#empty',\n",
       " '#gross',\n",
       " '#tears',\n",
       " '#pain',\n",
       " '#blood',\n",
       " '#helpme',\n",
       " '#emoboy',\n",
       " '#toofat',\n",
       " '#depression',\n",
       " '#deadinside',\n",
       " '#selfhate',\n",
       " '#suicidaledit',\n",
       " '#depressedteens',\n",
       " '#purge',\n",
       " '#happy',\n",
       " '#suffer',\n",
       " '#cut',\n",
       " '#depressedgirl',\n",
       " '#edit',\n",
       " '#dontgo',\n",
       " '#fakesmile',\n",
       " '#falling',\n",
       " '#selfhatred',\n",
       " '#knife',\n",
       " '#dead',\n",
       " '#hate',\n",
       " '#love',\n",
       " '#hurt',\n",
       " '#bodycheck',\n",
       " '#loner',\n",
       " '#hopeless',\n",
       " '#selfharmmm',\n",
       " '#suicidal',\n",
       " '#starving',\n",
       " '#struggling',\n",
       " '#hatemyself',\n",
       " '#suizid',\n",
       " '#suicide',\n",
       " '#thoughts',\n",
       " '#selfharrm',\n",
       " '#hated',\n",
       " '#blade',\n",
       " '#schizophrenia',\n",
       " '#bpd',\n",
       " '#ritzen',\n",
       " '#depressionedit',\n",
       " '#fuckup',\n",
       " '#selbstverletzen',\n",
       " '#anxiety',\n",
       " '#sad',\n",
       " '#selfharmed',\n",
       " '#depressedquotes',\n",
       " '#anerexia',\n",
       " '#anoreixa',\n",
       " '#ifollowback',\n",
       " '#bulimic',\n",
       " '#suicidalthought',\n",
       " '#eatingdisorder']"
      ]
     },
     "execution_count": 30,
     "metadata": {},
     "output_type": "execute_result"
    }
   ],
   "source": [
    "selfharmmm_related_hashtags_list"
   ]
  },
  {
   "cell_type": "code",
   "execution_count": 32,
   "metadata": {},
   "outputs": [],
   "source": [
    "selfharmmm_related_hashtags_list.remove('#pride')"
   ]
  },
  {
   "cell_type": "code",
   "execution_count": 33,
   "metadata": {},
   "outputs": [],
   "source": [
    "selfharmmm_related_hashtags_list.remove('#equality')"
   ]
  },
  {
   "cell_type": "code",
   "execution_count": 34,
   "metadata": {},
   "outputs": [],
   "source": [
    "selfharmmm_related_hashtags_list.remove('#edits')"
   ]
  },
  {
   "cell_type": "code",
   "execution_count": 35,
   "metadata": {},
   "outputs": [],
   "source": [
    "selfharmmm_related_hashtags_list.remove('#selbstverletzung')"
   ]
  },
  {
   "cell_type": "code",
   "execution_count": 37,
   "metadata": {},
   "outputs": [],
   "source": [
    "selfharmmm_related_hashtags_list.remove('#happy')"
   ]
  },
  {
   "cell_type": "code",
   "execution_count": 38,
   "metadata": {},
   "outputs": [],
   "source": [
    "selfharmmm_related_hashtags_list.remove('#edit')"
   ]
  },
  {
   "cell_type": "code",
   "execution_count": 39,
   "metadata": {},
   "outputs": [],
   "source": [
    "selfharmmm_related_hashtags_list.remove('#love')"
   ]
  },
  {
   "cell_type": "code",
   "execution_count": 40,
   "metadata": {},
   "outputs": [],
   "source": [
    "selfharmmm_related_hashtags_list.remove('#selbstverletzen')"
   ]
  },
  {
   "cell_type": "code",
   "execution_count": 41,
   "metadata": {},
   "outputs": [],
   "source": [
    "selfharmmm_related_hashtags_list.remove('#ritzen')"
   ]
  },
  {
   "cell_type": "code",
   "execution_count": 43,
   "metadata": {},
   "outputs": [],
   "source": [
    "selfharmmm_related_hashtags_list.remove('#ifollowback')"
   ]
  },
  {
   "cell_type": "code",
   "execution_count": 45,
   "metadata": {},
   "outputs": [],
   "source": [
    "selfharmmm_related_hashtags_list.remove('#recovery')"
   ]
  },
  {
   "cell_type": "code",
   "execution_count": 47,
   "metadata": {},
   "outputs": [],
   "source": [
    "selfharmmm_related_hashtags_list.remove('#breathtaking')"
   ]
  },
  {
   "cell_type": "code",
   "execution_count": 48,
   "metadata": {},
   "outputs": [],
   "source": [
    "selfharmmm_related_hashtags_list.remove('#mentalhealth')"
   ]
  },
  {
   "cell_type": "code",
   "execution_count": 50,
   "metadata": {},
   "outputs": [],
   "source": [
    "selfharmmm_related_hashtags_list.remove('#ocd')"
   ]
  },
  {
   "cell_type": "code",
   "execution_count": 51,
   "metadata": {},
   "outputs": [],
   "source": [
    "selfharmmm_related_hashtags_list.remove('#stupid')"
   ]
  },
  {
   "cell_type": "code",
   "execution_count": 52,
   "metadata": {},
   "outputs": [],
   "source": [
    "selfharmmm_related_hashtags_list.remove('#sadvideos')"
   ]
  },
  {
   "cell_type": "code",
   "execution_count": 55,
   "metadata": {},
   "outputs": [],
   "source": [
    "selfharmmm_related_hashtags_list.remove('#respect')"
   ]
  },
  {
   "cell_type": "code",
   "execution_count": 56,
   "metadata": {},
   "outputs": [],
   "source": [
    "selfharmmm_related_hashtags_list.remove('#borderline')"
   ]
  },
  {
   "cell_type": "code",
   "execution_count": 58,
   "metadata": {},
   "outputs": [],
   "source": [
    "selfharmmm_related_hashtags_list.remove('#pills')"
   ]
  },
  {
   "cell_type": "code",
   "execution_count": 59,
   "metadata": {},
   "outputs": [],
   "source": [
    "selfharmmm_related_hashtags_list.remove('#depressionquotes')"
   ]
  },
  {
   "cell_type": "code",
   "execution_count": 61,
   "metadata": {},
   "outputs": [],
   "source": [
    "selfharmmm_related_hashtags_list.remove('#bpd')"
   ]
  },
  {
   "cell_type": "code",
   "execution_count": 63,
   "metadata": {},
   "outputs": [],
   "source": [
    "selfharmmm_related_hashtags_list.remove('#depressedquotes')"
   ]
  },
  {
   "cell_type": "code",
   "execution_count": 64,
   "metadata": {},
   "outputs": [],
   "source": [
    "selfharmmm_related_hashtags_list.remove('#schizophrenia')"
   ]
  },
  {
   "cell_type": "code",
   "execution_count": 66,
   "metadata": {},
   "outputs": [],
   "source": [
    "selfharmmm_related_hashtags_list.remove('#thoughts')"
   ]
  },
  {
   "cell_type": "code",
   "execution_count": 68,
   "metadata": {},
   "outputs": [],
   "source": [
    "selfharmmm_related_hashtags_list.remove('#hope')"
   ]
  },
  {
   "cell_type": "code",
   "execution_count": 69,
   "metadata": {},
   "outputs": [
    {
     "data": {
      "text/plain": [
       "['#emo',\n",
       " '#binge',\n",
       " '#razor',\n",
       " '#silence',\n",
       " '#broken',\n",
       " '#emogirl',\n",
       " '#anerexic',\n",
       " '#sadedits',\n",
       " '#depressedboy',\n",
       " '#wasteofspace',\n",
       " '#suicideedit',\n",
       " '#suizidal',\n",
       " '#mentalillness',\n",
       " '#hatred',\n",
       " '#pathetic',\n",
       " '#numb',\n",
       " '#alone',\n",
       " '#suicidial',\n",
       " '#triggering',\n",
       " '#depressiv',\n",
       " '#selfharmmmm',\n",
       " '#sadaudio',\n",
       " '#brokenheart',\n",
       " '#cutting',\n",
       " '#worthless',\n",
       " '#dark',\n",
       " '#cry',\n",
       " '#lonely',\n",
       " '#depressedteen',\n",
       " '#tired',\n",
       " '#depressededits',\n",
       " '#ugly',\n",
       " '#everythingiswrong',\n",
       " '#starve',\n",
       " '#sorry',\n",
       " '#nobody',\n",
       " '#bulimia',\n",
       " '#sadness',\n",
       " '#monstersinmyhead',\n",
       " '#useless',\n",
       " '#crying',\n",
       " '#suicidalvideo',\n",
       " '#secretsociety123',\n",
       " '#killme',\n",
       " '#death',\n",
       " '#psychosis',\n",
       " '#depressededit',\n",
       " '#suicidaledits',\n",
       " '#cutted',\n",
       " '#fat',\n",
       " '#depressed',\n",
       " '#triggerwarning',\n",
       " '#anamia',\n",
       " '#ana',\n",
       " '#selfinjury',\n",
       " '#selfharn',\n",
       " '#mia',\n",
       " '#dying',\n",
       " '#anorexia',\n",
       " '#drugs',\n",
       " '#imalone',\n",
       " '#depressedvideos',\n",
       " '#obese',\n",
       " '#iwanttodie',\n",
       " '#whale',\n",
       " '#borderlinepersonalitydisorder',\n",
       " '#iwanttobeskinny',\n",
       " '#empty',\n",
       " '#gross',\n",
       " '#tears',\n",
       " '#pain',\n",
       " '#blood',\n",
       " '#helpme',\n",
       " '#emoboy',\n",
       " '#toofat',\n",
       " '#depression',\n",
       " '#deadinside',\n",
       " '#selfhate',\n",
       " '#suicidaledit',\n",
       " '#depressedteens',\n",
       " '#purge',\n",
       " '#suffer',\n",
       " '#cut',\n",
       " '#depressedgirl',\n",
       " '#dontgo',\n",
       " '#fakesmile',\n",
       " '#falling',\n",
       " '#selfhatred',\n",
       " '#knife',\n",
       " '#dead',\n",
       " '#hate',\n",
       " '#hurt',\n",
       " '#bodycheck',\n",
       " '#loner',\n",
       " '#hopeless',\n",
       " '#selfharmmm',\n",
       " '#suicidal',\n",
       " '#starving',\n",
       " '#struggling',\n",
       " '#hatemyself',\n",
       " '#suizid',\n",
       " '#suicide',\n",
       " '#selfharrm',\n",
       " '#hated',\n",
       " '#blade',\n",
       " '#depressionedit',\n",
       " '#fuckup',\n",
       " '#anxiety',\n",
       " '#sad',\n",
       " '#selfharmed',\n",
       " '#anerexia',\n",
       " '#anoreixa',\n",
       " '#bulimic',\n",
       " '#suicidalthought',\n",
       " '#eatingdisorder']"
      ]
     },
     "execution_count": 69,
     "metadata": {},
     "output_type": "execute_result"
    }
   ],
   "source": [
    "selfharmmm_related_hashtags_list"
   ]
  },
  {
   "cell_type": "code",
   "execution_count": 70,
   "metadata": {},
   "outputs": [],
   "source": [
    "selfharmmm_related_hashtags_list.remove('#sadaudio')"
   ]
  },
  {
   "cell_type": "code",
   "execution_count": 71,
   "metadata": {},
   "outputs": [],
   "source": [
    "selfharmmm_related_hashtags_list.remove('#tired')"
   ]
  },
  {
   "cell_type": "code",
   "execution_count": 72,
   "metadata": {},
   "outputs": [],
   "source": [
    "selfharmmm_related_hashtags_list.remove('#psychosis')"
   ]
  },
  {
   "cell_type": "code",
   "execution_count": 73,
   "metadata": {},
   "outputs": [],
   "source": [
    "selfharmmm_related_hashtags_list.remove('#whale')"
   ]
  },
  {
   "cell_type": "code",
   "execution_count": 74,
   "metadata": {},
   "outputs": [],
   "source": [
    "selfharmmm_related_hashtags_list.remove('#borderlinepersonalitydisorder')"
   ]
  },
  {
   "cell_type": "code",
   "execution_count": 75,
   "metadata": {},
   "outputs": [],
   "source": [
    "selfharmmm_related_hashtags_list.remove('#suizid')"
   ]
  },
  {
   "cell_type": "markdown",
   "metadata": {},
   "source": [
    "# Define functions to pickle files en mass"
   ]
  },
  {
   "cell_type": "code",
   "execution_count": 25,
   "metadata": {},
   "outputs": [],
   "source": [
    "def pickle_one_object(directory, pickle_obj=None, filename = None, directory2=None, use_two_directories=False):    \n",
    "#     filename = str(object_to_pickle)\n",
    "    \n",
    "    if use_two_directories == True:\n",
    "        pickle.dump(pickle_obj, open('{}/{}/{}.pkl'.format(directory, directory2, filename), 'wb'))\n",
    "    else:\n",
    "        pickle.dump(pickle_obj, open('{}/{}.pkl'.format(directory, filename), 'wb'))"
   ]
  },
  {
   "cell_type": "markdown",
   "metadata": {},
   "source": [
    "### Test this sub function"
   ]
  },
  {
   "cell_type": "code",
   "execution_count": 76,
   "metadata": {},
   "outputs": [],
   "source": [
    "pickle_one_object('iteration1_files', pickle_obj=selfharmmm_related_hashtags_list, filename='selfharmmm_related_hashtags_list')"
   ]
  },
  {
   "cell_type": "code",
   "execution_count": 28,
   "metadata": {},
   "outputs": [],
   "source": [
    "a=[1]"
   ]
  },
  {
   "cell_type": "code",
   "execution_count": 29,
   "metadata": {},
   "outputs": [
    {
     "ename": "AttributeError",
     "evalue": "'list' object has no attribute '__name__'",
     "output_type": "error",
     "traceback": [
      "\u001b[0;31m----------------------------------------------------------------------\u001b[0m",
      "\u001b[0;31mAttributeError\u001b[0m                       Traceback (most recent call last)",
      "\u001b[0;32m<ipython-input-29-c9eccfe2889d>\u001b[0m in \u001b[0;36m<module>\u001b[0;34m()\u001b[0m\n\u001b[0;32m----> 1\u001b[0;31m \u001b[0ma\u001b[0m\u001b[0;34m.\u001b[0m\u001b[0m__name__\u001b[0m\u001b[0;34m\u001b[0m\u001b[0m\n\u001b[0m",
      "\u001b[0;31mAttributeError\u001b[0m: 'list' object has no attribute '__name__'"
     ]
    }
   ],
   "source": [
    "a.__name__"
   ]
  },
  {
   "cell_type": "code",
   "execution_count": null,
   "metadata": {},
   "outputs": [],
   "source": [
    "def pickle_all_files(directory, files, directory2=None, use_two_directories=False):\n",
    "\n",
    "    zipped = zip(list_of_files, list_of_filenames)\n",
    "    \n",
    "    if use_two_directories == True:\n",
    "        for file in zipped:\n",
    "            pickle.dump(file[0], open('{}/{}/{}.pkl'.format(directory, directory2, file[1]), 'wb'))\n",
    "    else:\n",
    "        for file in zipped:\n",
    "            pickle.dump(file[0], open('{}/{}.pkl'.format(directory, file[1]), 'wb'))"
   ]
  },
  {
   "cell_type": "code",
   "execution_count": null,
   "metadata": {},
   "outputs": [],
   "source": []
  }
 ],
 "metadata": {
  "kernelspec": {
   "display_name": "Python 3",
   "language": "python",
   "name": "python3"
  },
  "language_info": {
   "codemirror_mode": {
    "name": "ipython",
    "version": 3
   },
   "file_extension": ".py",
   "mimetype": "text/x-python",
   "name": "python",
   "nbconvert_exporter": "python",
   "pygments_lexer": "ipython3",
   "version": "3.6.5"
  }
 },
 "nbformat": 4,
 "nbformat_minor": 2
}
